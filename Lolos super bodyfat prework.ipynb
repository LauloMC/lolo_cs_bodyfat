{
 "cells": [
  {
   "cell_type": "markdown",
   "metadata": {},
   "source": [
    "# Bodyfat prework"
   ]
  },
  {
   "cell_type": "markdown",
   "metadata": {},
   "source": [
    "# Question 1"
   ]
  },
  {
   "cell_type": "markdown",
   "metadata": {},
   "source": [
    "## Import data"
   ]
  },
  {
   "cell_type": "code",
   "execution_count": 16,
   "metadata": {},
   "outputs": [],
   "source": [
    "import pandas as pd\n",
    "import matplotlib.pyplot as plt"
   ]
  },
  {
   "cell_type": "code",
   "execution_count": 17,
   "metadata": {},
   "outputs": [
    {
     "data": {
      "text/html": [
       "<div>\n",
       "<style scoped>\n",
       "    .dataframe tbody tr th:only-of-type {\n",
       "        vertical-align: middle;\n",
       "    }\n",
       "\n",
       "    .dataframe tbody tr th {\n",
       "        vertical-align: top;\n",
       "    }\n",
       "\n",
       "    .dataframe thead th {\n",
       "        text-align: right;\n",
       "    }\n",
       "</style>\n",
       "<table border=\"1\" class=\"dataframe\">\n",
       "  <thead>\n",
       "    <tr style=\"text-align: right;\">\n",
       "      <th></th>\n",
       "      <th>IDNO</th>\n",
       "      <th>BODYFAT</th>\n",
       "      <th>DENSITY</th>\n",
       "      <th>AGE</th>\n",
       "      <th>WEIGHT</th>\n",
       "      <th>HEIGHT</th>\n",
       "      <th>ADIPOSITY</th>\n",
       "      <th>NECK</th>\n",
       "      <th>CHEST</th>\n",
       "      <th>ABDOMEN</th>\n",
       "      <th>HIP</th>\n",
       "      <th>THIGH</th>\n",
       "      <th>KNEE</th>\n",
       "      <th>ANKLE</th>\n",
       "      <th>BICEPS</th>\n",
       "      <th>FOREARM</th>\n",
       "      <th>WRIST</th>\n",
       "    </tr>\n",
       "  </thead>\n",
       "  <tbody>\n",
       "    <tr>\n",
       "      <th>0</th>\n",
       "      <td>1</td>\n",
       "      <td>12.6</td>\n",
       "      <td>1.0708</td>\n",
       "      <td>23</td>\n",
       "      <td>154.25</td>\n",
       "      <td>67.75</td>\n",
       "      <td>23.7</td>\n",
       "      <td>36.2</td>\n",
       "      <td>93.1</td>\n",
       "      <td>85.2</td>\n",
       "      <td>94.5</td>\n",
       "      <td>59.0</td>\n",
       "      <td>37.3</td>\n",
       "      <td>21.9</td>\n",
       "      <td>32.0</td>\n",
       "      <td>27.4</td>\n",
       "      <td>17.1</td>\n",
       "    </tr>\n",
       "    <tr>\n",
       "      <th>1</th>\n",
       "      <td>2</td>\n",
       "      <td>6.9</td>\n",
       "      <td>1.0853</td>\n",
       "      <td>22</td>\n",
       "      <td>173.25</td>\n",
       "      <td>72.25</td>\n",
       "      <td>23.4</td>\n",
       "      <td>38.5</td>\n",
       "      <td>93.6</td>\n",
       "      <td>83.0</td>\n",
       "      <td>98.7</td>\n",
       "      <td>58.7</td>\n",
       "      <td>37.3</td>\n",
       "      <td>23.4</td>\n",
       "      <td>30.5</td>\n",
       "      <td>28.9</td>\n",
       "      <td>18.2</td>\n",
       "    </tr>\n",
       "    <tr>\n",
       "      <th>2</th>\n",
       "      <td>3</td>\n",
       "      <td>24.6</td>\n",
       "      <td>1.0414</td>\n",
       "      <td>22</td>\n",
       "      <td>154.00</td>\n",
       "      <td>66.25</td>\n",
       "      <td>24.7</td>\n",
       "      <td>34.0</td>\n",
       "      <td>95.8</td>\n",
       "      <td>87.9</td>\n",
       "      <td>99.2</td>\n",
       "      <td>59.6</td>\n",
       "      <td>38.9</td>\n",
       "      <td>24.0</td>\n",
       "      <td>28.8</td>\n",
       "      <td>25.2</td>\n",
       "      <td>16.6</td>\n",
       "    </tr>\n",
       "    <tr>\n",
       "      <th>3</th>\n",
       "      <td>4</td>\n",
       "      <td>10.9</td>\n",
       "      <td>1.0751</td>\n",
       "      <td>26</td>\n",
       "      <td>184.75</td>\n",
       "      <td>72.25</td>\n",
       "      <td>24.9</td>\n",
       "      <td>37.4</td>\n",
       "      <td>101.8</td>\n",
       "      <td>86.4</td>\n",
       "      <td>101.2</td>\n",
       "      <td>60.1</td>\n",
       "      <td>37.3</td>\n",
       "      <td>22.8</td>\n",
       "      <td>32.4</td>\n",
       "      <td>29.4</td>\n",
       "      <td>18.2</td>\n",
       "    </tr>\n",
       "    <tr>\n",
       "      <th>4</th>\n",
       "      <td>5</td>\n",
       "      <td>27.8</td>\n",
       "      <td>1.0340</td>\n",
       "      <td>24</td>\n",
       "      <td>184.25</td>\n",
       "      <td>71.25</td>\n",
       "      <td>25.6</td>\n",
       "      <td>34.4</td>\n",
       "      <td>97.3</td>\n",
       "      <td>100.0</td>\n",
       "      <td>101.9</td>\n",
       "      <td>63.2</td>\n",
       "      <td>42.2</td>\n",
       "      <td>24.0</td>\n",
       "      <td>32.2</td>\n",
       "      <td>27.7</td>\n",
       "      <td>17.7</td>\n",
       "    </tr>\n",
       "  </tbody>\n",
       "</table>\n",
       "</div>"
      ],
      "text/plain": [
       "   IDNO  BODYFAT  DENSITY  AGE  WEIGHT  HEIGHT  ADIPOSITY  NECK  CHEST  \\\n",
       "0     1     12.6   1.0708   23  154.25   67.75       23.7  36.2   93.1   \n",
       "1     2      6.9   1.0853   22  173.25   72.25       23.4  38.5   93.6   \n",
       "2     3     24.6   1.0414   22  154.00   66.25       24.7  34.0   95.8   \n",
       "3     4     10.9   1.0751   26  184.75   72.25       24.9  37.4  101.8   \n",
       "4     5     27.8   1.0340   24  184.25   71.25       25.6  34.4   97.3   \n",
       "\n",
       "   ABDOMEN    HIP  THIGH  KNEE  ANKLE  BICEPS  FOREARM  WRIST  \n",
       "0     85.2   94.5   59.0  37.3   21.9    32.0     27.4   17.1  \n",
       "1     83.0   98.7   58.7  37.3   23.4    30.5     28.9   18.2  \n",
       "2     87.9   99.2   59.6  38.9   24.0    28.8     25.2   16.6  \n",
       "3     86.4  101.2   60.1  37.3   22.8    32.4     29.4   18.2  \n",
       "4    100.0  101.9   63.2  42.2   24.0    32.2     27.7   17.7  "
      ]
     },
     "execution_count": 17,
     "metadata": {},
     "output_type": "execute_result"
    }
   ],
   "source": [
    "data = pd.read_excel('BodyFat.xls')\n",
    "data.head()"
   ]
  },
  {
   "cell_type": "markdown",
   "metadata": {},
   "source": [
    "## Explore correlation with adiposity"
   ]
  },
  {
   "cell_type": "code",
   "execution_count": 46,
   "metadata": {},
   "outputs": [
    {
     "name": "stdout",
     "output_type": "stream",
     "text": [
      "IDNO         0.047717\n",
      "BODYFAT      0.727994\n",
      "DENSITY     -0.714732\n",
      "AGE          0.118851\n",
      "WEIGHT       0.887352\n",
      "HEIGHT      -0.024891\n",
      "ADIPOSITY    1.000000\n",
      "NECK         0.777857\n",
      "CHEST        0.911799\n",
      "ABDOMEN      0.923880\n",
      "HIP          0.883269\n",
      "THIGH        0.812706\n",
      "KNEE         0.713660\n",
      "ANKLE        0.500317\n",
      "BICEPS       0.746384\n",
      "FOREARM      0.558594\n",
      "WRIST        0.625907\n",
      "Name: ADIPOSITY, dtype: float64\n"
     ]
    }
   ],
   "source": [
    "adiposity_corr = data.corr()['ADIPOSITY']\n",
    "print(adiposity_corr)"
   ]
  },
  {
   "cell_type": "code",
   "execution_count": 45,
   "metadata": {},
   "outputs": [
    {
     "data": {
      "text/plain": [
       "ADIPOSITY    1.000000\n",
       "ABDOMEN      0.923880\n",
       "CHEST        0.911799\n",
       "WEIGHT       0.887352\n",
       "HIP          0.883269\n",
       "THIGH        0.812706\n",
       "NECK         0.777857\n",
       "BICEPS       0.746384\n",
       "BODYFAT      0.727994\n",
       "KNEE         0.713660\n",
       "WRIST        0.625907\n",
       "FOREARM      0.558594\n",
       "ANKLE        0.500317\n",
       "AGE          0.118851\n",
       "IDNO         0.047717\n",
       "HEIGHT      -0.024891\n",
       "DENSITY     -0.714732\n",
       "Name: ADIPOSITY, dtype: float64"
      ]
     },
     "execution_count": 45,
     "metadata": {},
     "output_type": "execute_result"
    }
   ],
   "source": [
    "adiposity_corr.sort_values(ascending=False)  "
   ]
  },
  {
   "cell_type": "markdown",
   "metadata": {},
   "source": [
    "Let's graph the correlations (note that color scale was reversed for readability)"
   ]
  },
  {
   "cell_type": "code",
   "execution_count": 19,
   "metadata": {},
   "outputs": [],
   "source": [
    "def label_graph(df):\n",
    "    corr = df.corr()\n",
    "    fig, ax = plt.subplots(figsize=(10,10))\n",
    "    ax.matshow(corr, cmap='hot_r')\n",
    "    plt.xticks(range(len(corr.columns)), corr.columns, rotation=90)\n",
    "    plt.yticks(range(len(corr.columns)), corr.columns)"
   ]
  },
  {
   "cell_type": "code",
   "execution_count": 20,
   "metadata": {},
   "outputs": [
    {
     "data": {
      "image/png": "[encoded data removed]",
      "text/plain": [
       "<matplotlib.figure.Figure at 0x112014e80>"
      ]
     },
     "metadata": {},
     "output_type": "display_data"
    }
   ],
   "source": [
    "label_graph(data)"
   ]
  },
  {
   "cell_type": "markdown",
   "metadata": {},
   "source": [
    "## Answer 1"
   ]
  },
  {
   "cell_type": "markdown",
   "metadata": {},
   "source": [
    "By looking at the correlation between Adiposity and the other features we can notice that the size of the Abdomen has the highest correlation. We can also observe this from the graph. So the best thing to measure in order to predict how fat a person is would be the abdomen. "
   ]
  },
  {
   "cell_type": "markdown",
   "metadata": {},
   "source": [
    "# Question 2"
   ]
  },
  {
   "cell_type": "markdown",
   "metadata": {},
   "source": [
    "## Split by age"
   ]
  },
  {
   "cell_type": "markdown",
   "metadata": {},
   "source": [
    "Let's look at the data for people above 45 years old"
   ]
  },
  {
   "cell_type": "code",
   "execution_count": 26,
   "metadata": {},
   "outputs": [
    {
     "name": "stdout",
     "output_type": "stream",
     "text": [
      "Under 45:  2312\n",
      "Over 45:  1972\n"
     ]
    }
   ],
   "source": [
    "data_under45 = data[data['AGE'] < 45]\n",
    "data_over45 = data[data['AGE'] >= 45]\n",
    "\n",
    "print(\"Under 45: \", data_under45.size)\n",
    "print(\"Over 45: \",data_over45.size)"
   ]
  },
  {
   "cell_type": "markdown",
   "metadata": {},
   "source": [
    "## Correlation by age split"
   ]
  },
  {
   "cell_type": "code",
   "execution_count": 47,
   "metadata": {},
   "outputs": [],
   "source": [
    "under45_corr = data_under45.corr()['ADIPOSITY']\n",
    "over45_corr = data_over45.corr()['ADIPOSITY']"
   ]
  },
  {
   "cell_type": "markdown",
   "metadata": {},
   "source": [
    "Let's look at the difference between both age categories"
   ]
  },
  {
   "cell_type": "code",
   "execution_count": 48,
   "metadata": {},
   "outputs": [
    {
     "data": {
      "text/plain": [
       "{'ABDOMEN': -0.020820580840045233,\n",
       " 'ADIPOSITY': 0.0,\n",
       " 'AGE': 0.024507558141896868,\n",
       " 'ANKLE': -0.06194043011693734,\n",
       " 'BICEPS': 0.08871955387814023,\n",
       " 'BODYFAT': -0.04490096372751273,\n",
       " 'CHEST': 0.004175860726502445,\n",
       " 'DENSITY': 0.02861417819300538,\n",
       " 'FOREARM': -0.014162800579309187,\n",
       " 'HEIGHT': 0.03514388196089998,\n",
       " 'HIP': -0.010269505864226813,\n",
       " 'IDNO': 0.05891215582800935,\n",
       " 'KNEE': 0.10830842534469676,\n",
       " 'NECK': -0.030663409124133456,\n",
       " 'THIGH': 0.03210502074934207,\n",
       " 'WEIGHT': 0.0049510416404691115,\n",
       " 'WRIST': 0.036528410574490966}"
      ]
     },
     "execution_count": 48,
     "metadata": {},
     "output_type": "execute_result"
    }
   ],
   "source": [
    "corr_diff = {}\n",
    "for i in range(data.columns.values.size):\n",
    "    diff = under45_corr[i] - over45_corr[i]\n",
    "    corr_diff[data.columns[i]] = diff\n",
    "    \n",
    "corr_diff"
   ]
  },
  {
   "cell_type": "markdown",
   "metadata": {},
   "source": [
    "To compare the results, let's look at the absolute values, as we are looking the largest delta, might it be positive or negative"
   ]
  },
  {
   "cell_type": "code",
   "execution_count": 66,
   "metadata": {},
   "outputs": [
    {
     "data": {
      "text/plain": [
       "{'ABDOMEN': 0.020820580840045233,\n",
       " 'ADIPOSITY': 0.0,\n",
       " 'AGE': 0.024507558141896868,\n",
       " 'ANKLE': 0.06194043011693734,\n",
       " 'BICEPS': 0.08871955387814023,\n",
       " 'BODYFAT': 0.04490096372751273,\n",
       " 'CHEST': 0.004175860726502445,\n",
       " 'DENSITY': 0.02861417819300538,\n",
       " 'FOREARM': 0.014162800579309187,\n",
       " 'HEIGHT': 0.03514388196089998,\n",
       " 'HIP': 0.010269505864226813,\n",
       " 'IDNO': 0.05891215582800935,\n",
       " 'KNEE': 0.10830842534469676,\n",
       " 'NECK': 0.030663409124133456,\n",
       " 'THIGH': 0.03210502074934207,\n",
       " 'WEIGHT': 0.0049510416404691115,\n",
       " 'WRIST': 0.036528410574490966}"
      ]
     },
     "execution_count": 66,
     "metadata": {},
     "output_type": "execute_result"
    }
   ],
   "source": [
    "abs_corr_diff = {}\n",
    "for i in corr_diff:\n",
    "    abs_corr_diff[i] = abs(corr_diff[i])\n",
    "    \n",
    "abs_corr_diff"
   ]
  },
  {
   "cell_type": "code",
   "execution_count": 68,
   "metadata": {},
   "outputs": [
    {
     "name": "stdout",
     "output_type": "stream",
     "text": [
      "KNEE\n"
     ]
    }
   ],
   "source": [
    "max_abs_corr = max(abs_corr_diff, key=lambda i: abs_corr_diff[i])\n",
    "print(max_abs_corr)"
   ]
  },
  {
   "cell_type": "markdown",
   "metadata": {},
   "source": [
    "## Answer 2"
   ]
  },
  {
   "cell_type": "markdown",
   "metadata": {},
   "source": [
    "The characteristic as it related to predicting someone's adiposity that changes most between people under 45 and people 45 and over is:"
   ]
  },
  {
   "cell_type": "code",
   "execution_count": 72,
   "metadata": {},
   "outputs": [
    {
     "name": "stdout",
     "output_type": "stream",
     "text": [
      "The characteristic  KNEE  changes by  0.10830842534469676\n"
     ]
    }
   ],
   "source": [
    "print('The characteristic ', max_abs_corr,' changes by ', corr_diff[max_abs_corr])\n",
    "\n",
    "#Note that we should give the real value as result (not absolute value)"
   ]
  },
  {
   "cell_type": "code",
   "execution_count": null,
   "metadata": {},
   "outputs": [],
   "source": []
  }
 ],
 "metadata": {
  "kernelspec": {
   "display_name": "Python 3",
   "language": "python",
   "name": "python3"
  },
  "language_info": {
   "codemirror_mode": {
    "name": "ipython",
    "version": 3
   },
   "file_extension": ".py",
   "mimetype": "text/x-python",
   "name": "python",
   "nbconvert_exporter": "python",
   "pygments_lexer": "ipython3",
   "version": "3.6.4"
  }
 },
 "nbformat": 4,
 "nbformat_minor": 2
}
